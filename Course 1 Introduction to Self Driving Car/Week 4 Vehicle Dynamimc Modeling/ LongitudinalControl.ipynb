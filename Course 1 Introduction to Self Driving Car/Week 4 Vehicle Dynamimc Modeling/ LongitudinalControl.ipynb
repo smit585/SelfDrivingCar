{
  "nbformat": 4,
  "nbformat_minor": 0,
  "metadata": {
    "kernelspec": {
      "display_name": "Python 3",
      "language": "python",
      "name": "python3"
    },
    "language_info": {
      "codemirror_mode": {
        "name": "ipython",
        "version": 3
      },
      "file_extension": ".py",
      "mimetype": "text/x-python",
      "name": "python",
      "nbconvert_exporter": "python",
      "pygments_lexer": "ipython3",
      "version": "3.7.6"
    },
    "colab": {
      "name": "LongitudinalControl.ipynb",
      "provenance": [],
      "include_colab_link": true
    }
  },
  "cells": [
    {
      "cell_type": "markdown",
      "metadata": {
        "id": "view-in-github",
        "colab_type": "text"
      },
      "source": [
        "<a href=\"https://colab.research.google.com/github/smit585/SelfDrivingCar/blob/master/Course%201%20Introduction%20to%20Self%20Driving%20Car/Week%204%20Vehicle%20Dynamimc%20Modeling/%20LongitudinalControl.ipynb\" target=\"_parent\"><img src=\"https://colab.research.google.com/assets/colab-badge.svg\" alt=\"Open In Colab\"/></a>"
      ]
    },
    {
      "cell_type": "code",
      "metadata": {
        "id": "78pHh71QMqS7",
        "colab_type": "code",
        "colab": {}
      },
      "source": [
        "import sys\n",
        "import numpy as np\n",
        "import matplotlib.pyplot as plt\n",
        "import matplotlib.image as mpimg\n",
        "\n",
        "class Vehicle():\n",
        "    def __init__(self):\n",
        " \n",
        "        # ==================================\n",
        "        #  Parameters\n",
        "        # ==================================\n",
        "    \n",
        "        #Throttle to engine torque\n",
        "        self.a_0 = 400\n",
        "        self.a_1 = 0.1\n",
        "        self.a_2 = -0.0002\n",
        "        \n",
        "        # Gear ratio, effective radius, mass + inertia\n",
        "        self.GR = 0.35\n",
        "        self.r_e = 0.3\n",
        "        self.J_e = 10\n",
        "        self.m = 2000\n",
        "        self.g = 9.81\n",
        "        \n",
        "        # Aerodynamic and friction coefficients\n",
        "        self.c_a = 1.36\n",
        "        self.c_r1 = 0.01\n",
        "        \n",
        "        # Tire force \n",
        "        self.c = 10000\n",
        "        self.F_max = 10000\n",
        "        \n",
        "        # State variables\n",
        "        self.x = 0\n",
        "        self.v = 5\n",
        "        self.a = 0\n",
        "        self.w_e = 100\n",
        "        self.w_e_dot = 0\n",
        "        \n",
        "        self.sample_time = 0.01\n",
        "        \n",
        "    def reset(self):\n",
        "        # reset state variables\n",
        "        self.x = 0\n",
        "        self.v = 5\n",
        "        self.a = 0\n",
        "        self.w_e = 100\n",
        "        self.w_e_dot = 0"
      ],
      "execution_count": 0,
      "outputs": []
    },
    {
      "cell_type": "code",
      "metadata": {
        "id": "uHEgqxIzMqS-",
        "colab_type": "code",
        "colab": {}
      },
      "source": [
        "class Vehicle(Vehicle):\n",
        "    def step(self, throttle, alpha):\n",
        "        # ==================================\n",
        "        #  Implement vehicle model here\n",
        "        # ==================================\n",
        "        # Change alpha into numpy\n",
        "        alpha\n",
        "        # Calculate engine torque\n",
        "        Te = throttle * (self.a_0 + self.a_1 * self.w_e + self.a_2 * self.w_e ** 2)\n",
        "        \n",
        "        # Calculate components of F_load\n",
        "        F_aero = self.c_a * self.v ** 2\n",
        "        R_x   = self.c_r1 * self.v\n",
        "        F_g   = self.m * self.g * np.sin(alpha)\n",
        "        \n",
        "        F_load = F_aero + R_x + F_g\n",
        "                      \n",
        "        # Calculate Fx using Tire Model. \n",
        "        # Wheel angular velocity\n",
        "        w_w = (self.GR) * self.w_e\n",
        "        \n",
        "        # Calculate slip ratio\n",
        "        s = ((w_w * self.r_e) - self.v) / self.v\n",
        "        \n",
        "        # Tire model is linear here.\n",
        "        if abs(s) < 1:\n",
        "            Fx = self.c * s\n",
        "        else:\n",
        "            Fx = self.F_max\n",
        "        \n",
        "        # Update the Engine's angular velocity\n",
        "        self.w_e = self.w_e + self.w_e_dot * self.sample_time\n",
        "        \n",
        "        # Update the Enginer's angular acceleration\n",
        "        self.w_e_dot = ((Te - (self.GR) * (self.r_e) * (F_load)) / self.J_e)       \n",
        "        \n",
        "        # Update the Acceleration, Velocity and Position of the car\n",
        "        self.x = self.x + self.v * self.sample_time\n",
        "        self.v = self.v + self.a * self.sample_time\n",
        "        self.a = (Fx - F_load) / self.m\n",
        "        \n",
        "        pass   \n",
        "    "
      ],
      "execution_count": 0,
      "outputs": []
    },
    {
      "cell_type": "code",
      "metadata": {
        "id": "uCu9hAejMqTB",
        "colab_type": "code",
        "colab": {
          "base_uri": "https://localhost:8080/",
          "height": 265
        },
        "outputId": "600c334e-aac3-4126-f069-d96312012486"
      },
      "source": [
        "sample_time = 0.01\n",
        "time_end = 100\n",
        "model = Vehicle()\n",
        "\n",
        "t_data = np.arange(0,time_end,sample_time)\n",
        "v_data = np.zeros_like(t_data)\n",
        "\n",
        "# throttle percentage between 0 and 1\n",
        "throttle = 0.2\n",
        "\n",
        "# incline angle (in radians)\n",
        "alpha = 0\n",
        "\n",
        "for i in range(t_data.shape[0]):\n",
        "    v_data[i] = model.v\n",
        "    model.step(throttle, alpha)\n",
        "    \n",
        "plt.plot(t_data, v_data)\n",
        "plt.show()"
      ],
      "execution_count": 3,
      "outputs": [
        {
          "output_type": "display_data",
          "data": {
            "image/png": "[encoded data removed]",
            "text/plain": [
              "<Figure size 432x288 with 1 Axes>"
            ]
          },
          "metadata": {
            "tags": [],
            "needs_background": "light"
          }
        }
      ]
    },
    {
      "cell_type": "code",
      "metadata": {
        "id": "ZCQ_692dMqTE",
        "colab_type": "code",
        "colab": {}
      },
      "source": [
        "time_end = 20\n",
        "t_data = np.arange(0,time_end,sample_time)\n",
        "x_data = np.zeros_like(t_data)"
      ],
      "execution_count": 0,
      "outputs": []
    },
    {
      "cell_type": "code",
      "metadata": {
        "id": "sFWI2cS0MqTG",
        "colab_type": "code",
        "colab": {
          "base_uri": "https://localhost:8080/",
          "height": 283
        },
        "outputId": "bae7541c-4013-417d-818c-1273c520d471"
      },
      "source": [
        "throttle = np.zeros_like(t_data);\n",
        "slopeAscent = (0.5-0.2)/500\n",
        "slopeDescent = (0 - 0.5)/500\n",
        "throttle[0:500] = np.arange(0.2,0.5,slopeAscent)\n",
        "throttle[500:1500] = 0.5\n",
        "throttle[1500:2000] = np.arange(0.5,0,slopeDescent)\n",
        "plt.plot(t_data, throttle)"
      ],
      "execution_count": 5,
      "outputs": [
        {
          "output_type": "execute_result",
          "data": {
            "text/plain": [
              "[<matplotlib.lines.Line2D at 0x7fdb590418d0>]"
            ]
          },
          "metadata": {
            "tags": []
          },
          "execution_count": 5
        },
        {
          "output_type": "display_data",
          "data": {
            "image/png": "[encoded data removed]",
            "text/plain": [
              "<Figure size 432x288 with 1 Axes>"
            ]
          },
          "metadata": {
            "tags": [],
            "needs_background": "light"
          }
        }
      ]
    },
    {
      "cell_type": "code",
      "metadata": {
        "id": "l3jz268aMqTI",
        "colab_type": "code",
        "colab": {
          "base_uri": "https://localhost:8080/",
          "height": 265
        },
        "outputId": "a2a8e276-74b5-4624-f7c2-4d5013394bd1"
      },
      "source": [
        "time_end = 20\n",
        "t_data = np.arange(0,time_end,sample_time)\n",
        "x_data = np.zeros_like(t_data)\n",
        "\n",
        "# reset the states\n",
        "model.reset()\n",
        "\n",
        "# Create the throttle profile\n",
        "throttle = np.zeros_like(t_data);\n",
        "slopeAscent = (0.5-0.2)/500\n",
        "slopeDescent = (0 - 0.5)/500\n",
        "throttle[0:500] = np.arange(0.2,0.5,slopeAscent)\n",
        "throttle[500:1500] = 0.5\n",
        "throttle[1500:2000] = np.arange(0.5,0,slopeDescent)\n",
        "# ==================================\n",
        "#  Learner solution begins here\n",
        "# ==================================\n",
        "for i in range(t_data.shape[0]):\n",
        "    x_data[i] = model.x\n",
        "    if model.x < 60:\n",
        "        alpha = np.tan(3/60)\n",
        "    elif model.x < 150:\n",
        "        alpha = np.tan(9/90)\n",
        "    else:\n",
        "        alpha = 0\n",
        "    \n",
        "    model.step(throttle[i], alpha)\n",
        "# ==================================\n",
        "#  Learner solution ends here\n",
        "# ==================================\n",
        "\n",
        "# Plot x vs t for visualization\n",
        "plt.plot(t_data, x_data)\n",
        "plt.show()"
      ],
      "execution_count": 6,
      "outputs": [
        {
          "output_type": "display_data",
          "data": {
            "image/png": "[encoded data removed]",
            "text/plain": [
              "<Figure size 432x288 with 1 Axes>"
            ]
          },
          "metadata": {
            "tags": [],
            "needs_background": "light"
          }
        }
      ]
    }
  ]
}