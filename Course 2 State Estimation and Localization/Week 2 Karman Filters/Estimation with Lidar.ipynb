{
  "nbformat": 4,
  "nbformat_minor": 0,
  "metadata": {
    "colab": {
      "name": "Untitled0.ipynb",
      "provenance": [],
      "collapsed_sections": [],
      "authorship_tag": "ABX9TyOkgfzGDqGaZYV9NuFqxj28",
      "include_colab_link": true
    },
    "kernelspec": {
      "name": "python3",
      "display_name": "Python 3"
    }
  },
  "cells": [
    {
      "cell_type": "markdown",
      "metadata": {
        "id": "view-in-github",
        "colab_type": "text"
      },
      "source": [
        "<a href=\"https://colab.research.google.com/github/smit585/SelfDrivingCar/blob/master/Course%202%20State%20Estimation%20and%20Localization/Week%202%20Karman%20Filters/Estimation%20with%20Lidar.ipynb\" target=\"_parent\"><img src=\"https://colab.research.google.com/assets/colab-badge.svg\" alt=\"Open In Colab\"/></a>"
      ]
    },
    {
      "cell_type": "markdown",
      "metadata": {
        "id": "N81QEE1VmNf-",
        "colab_type": "text"
      },
      "source": [
        "## Introduction\n",
        "-----\n",
        "\n",
        "In this assignment you will recursively estimate the position of a vehicle along a trajectory using available measurements and a motion model. \n",
        "\n",
        "The vehicle is equipped with a very simple type of LIDAR sensor, which returns range and bearing measurements corresponding to individual landmarks in the environment. The global positions of the landmarks are assumed to be known beforehand. We will also assume known data association, that is, which measurment belong to which landmark.\n",
        "\n",
        "## Motion and Measurement Models\n",
        "-----\n",
        "\n",
        "### Motion Model\n",
        "\n",
        "The vehicle motion model recieves linear and angular velocity odometry readings as inputs, and outputs the state (i.e., the 2D pose) of the vehicle:\n",
        "\n",
        "\\begin{align}\n",
        "\\mathbf{x}_{k} &= \\mathbf{x}_{k-1} + T\n",
        "\\begin{bmatrix}\n",
        "\\cos\\theta_{k-1} &0 \\\\\n",
        "\\sin\\theta_{k-1} &0 \\\\\n",
        "0 &1\n",
        "\\end{bmatrix}\n",
        "\\left(\n",
        "\\begin{bmatrix}\n",
        "v_k \\\\\n",
        "\\omega_k\n",
        "\\end{bmatrix}\n",
        "+ \\mathbf{w}_k\n",
        "\\right)\n",
        "\\, , \\, \\, \\, \\, \\, \\mathbf{w}_k = \\mathcal{N}\\left(\\mathbf{0}, \\mathbf{Q}\\right)\n",
        "\\end{align}\n",
        "\n",
        "- $\\mathbf{x}_k = \\left[ x \\, y \\, \\theta \\right]^T$ is the current 2D pose of the vehicle\n",
        "- $v_k$ and $\\omega_k$ are the linear and angular velocity odometry readings, which we use as inputs to the model\n",
        "\n",
        "The process noise $\\mathbf{w}_k$ has a (zero mean) normal distribution with a constant covariance $\\mathbf{Q}$.\n",
        "\n",
        "### Measurement Model\n",
        "\n",
        "The measurement model relates the current pose of the vehicle to the LIDAR range and bearing measurements $\\mathbf{y}^l_k = \\left[r \\, \\phi \\right]^T$.\n",
        "\n",
        "\\begin{align}\n",
        "\\mathbf{y}^l_k =\n",
        "\\begin{bmatrix}\n",
        "\\sqrt{(x_l - x_k - d\\cos\\theta_{k})^2 + (y_l - y_k - d\\sin\\theta_{k})^2} \\\\\n",
        "atan2\\left(y_l - y_k - d\\sin\\theta_{k},x_l - x_k - d\\cos\\theta_{k}\\right) - \\theta_k\n",
        "\\end{bmatrix}\n",
        "+\n",
        "\\mathbf{n}^l_k\n",
        "\\, , \\, \\, \\, \\, \\, \\mathbf{n}^l_k = \\mathcal{N}\\left(\\mathbf{0}, \\mathbf{R}\\right)\n",
        "\\end{align}\n",
        "\n",
        "- $x_l$ and $y_l$ are the ground truth coordinates of the landmark $l$\n",
        "- $x_k$ and $y_k$ and $\\theta_{k}$ represent the current pose of the vehicle\n",
        "- $d$ is the known distance between robot center and laser rangefinder (LIDAR)\n",
        "\n",
        "The landmark measurement noise $\\mathbf{n}^l_k$ has a (zero mean) normal distribution with a constant covariance $\\mathbf{R}$.\n",
        "\n",
        "## Getting Started\n",
        "-----\n",
        "\n",
        "Since the models above are nonlinear, we recommend using the extended Kalman filter (EKF) as the state estimator.\n",
        "Specifically, you will need to provide code implementing the following steps:\n",
        "- the prediction step, which uses odometry measurements and the motion model to produce a state and covariance estimate at a given timestep, and\n",
        "- the correction step, which uses the range and bearing measurements provided by the LIDAR to correct the pose and pose covariance estimates\n",
        "\n",
        "### Unpack the Data\n",
        "First, let's unpack the available data:"
      ]
    },
    {
      "cell_type": "code",
      "metadata": {
        "id": "1W10vLjO8gY2",
        "colab_type": "code",
        "outputId": "6b30bc50-bc40-40c9-b1ff-163448093a1e",
        "colab": {
          "resources": {
            "http://localhost:8080/nbextensions/google.colab/files.js": {
              "data": "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",
              "ok": true,
              "headers": [
                [
                  "content-type",
                  "application/javascript"
                ]
              ],
              "status": 200,
              "status_text": ""
            }
          },
          "base_uri": "https://localhost:8080/",
          "height": 75
        }
      },
      "source": [
        "from google.colab import files\n",
        "uploaded = files.upload()\n",
        "data = pickle.load(open( \"utf-8''data.pickle\", \"rb\" ) )\n",
        "\n"
      ],
      "execution_count": 0,
      "outputs": [
        {
          "output_type": "display_data",
          "data": {
            "text/html": [
              "\n",
              "     <input type=\"file\" id=\"files-b6a0f3ba-5145-4ddd-8257-d716e2624d6f\" name=\"files[]\" multiple disabled />\n",
              "     <output id=\"result-b6a0f3ba-5145-4ddd-8257-d716e2624d6f\">\n",
              "      Upload widget is only available when the cell has been executed in the\n",
              "      current browser session. Please rerun this cell to enable.\n",
              "      </output>\n",
              "      <script src=\"/nbextensions/google.colab/files.js\"></script> "
            ],
            "text/plain": [
              "<IPython.core.display.HTML object>"
            ]
          },
          "metadata": {
            "tags": []
          }
        },
        {
          "output_type": "stream",
          "text": [
            "Saving utf-8''data.pickle to utf-8''data (12).pickle\n"
          ],
          "name": "stdout"
        }
      ]
    },
    {
      "cell_type": "code",
      "metadata": {
        "id": "GXi2QrjEmK8l",
        "colab_type": "code",
        "colab": {}
      },
      "source": [
        "import pickle\n",
        "import numpy as np\n",
        "import matplotlib.pyplot as plt\n",
        "import math\n",
        "\n",
        "t = data['t']  # timestamps [s]\n",
        "\n",
        "x_init  = data['x_init'] # initial x position [m]\n",
        "y_init  = data['y_init'] # initial y position [m]\n",
        "th_init = data['th_init'] # initial theta position [rad]\n",
        "\n",
        "# input signal\n",
        "v  = data['v']  # translational velocity input [m/s]\n",
        "om = data['om']  # rotational velocity input [rad/s]\n",
        "\n",
        "# bearing and range measurements, LIDAR constants\n",
        "b = data['b']  # bearing to each landmarks center in the frame attached to the laser [rad]\n",
        "r = data['r']  # range measurements [m]\n",
        "l = data['l']  # x,y positions of landmarks [m]\n",
        "d = data['d']  # distance between robot center and laser rangefinder [m]"
      ],
      "execution_count": 0,
      "outputs": []
    },
    {
      "cell_type": "markdown",
      "metadata": {
        "id": "U-379KRh_uyv",
        "colab_type": "text"
      },
      "source": [
        "Note that distance from the LIDAR frame to the robot center is provided and loaded as an array into the `d` variable.\n",
        "\n",
        "### Ground Truth\n",
        "If available, it is useful to plot the ground truth position and orientation before starting the assignment.\n",
        "\n",
        "<table><tr>\n",
        "<td> <img src=\"utf8gtruth.png\" alt=\"Ground Truth\" width=\"350\"/> </td>\n",
        "<td> <img src=\"data/gtruth2.png\" alt=\"Ground Truth\" width=\"350\"/> </td>\n",
        "</tr></table>\n",
        "\n",
        "Notice that the orientation values are wrapped to the $\\left[-\\pi,\\pi\\right]$ range in radians.\n"
      ]
    },
    {
      "cell_type": "markdown",
      "metadata": {
        "id": "0nOckzfdCiZa",
        "colab_type": "text"
      },
      "source": [
        "### Initializing Parameters\n",
        "\n",
        "Now that our data is loaded, we can begin getting things set up for our solver. One of the\n",
        "most important aspects of designing a filter is determining the input and measurement noise covariance matrices, as well as the initial state and covariance values. We set the values here:"
      ]
    },
    {
      "cell_type": "code",
      "metadata": {
        "id": "16L4F__RCi-o",
        "colab_type": "code",
        "colab": {}
      },
      "source": [
        "v_var = 15.15  # translation velocity variance  \n",
        "om_var = 0.01  # rotational velocity variance \n",
        "r_var = 0.015  # range measurements variance\n",
        "b_var = 0.015  # bearing measurement variance\n",
        "\n",
        "Q_km = np.diag([v_var, om_var]) # input noise covariance \n",
        "cov_y = np.diag([r_var, b_var])  # measurement noise covariance \n",
        "\n",
        "x_est = np.zeros([len(v), 3])  # estimated states, x, y, and theta\n",
        "P_est = np.zeros([len(v), 3, 3])  # state covariance matrices\n",
        "\n",
        "x_est[0] = np.array([x_init, y_init, th_init]) # initial state\n",
        "P_est[0] = np.diag([1, 1, 0.1]) # initial state covariance"
      ],
      "execution_count": 0,
      "outputs": []
    },
    {
      "cell_type": "markdown",
      "metadata": {
        "id": "q4eYwLQECu0Q",
        "colab_type": "text"
      },
      "source": [
        "**Remember:** that it is neccessary to tune the measurement noise variances `r_var`, `b_var` in order for the filter to perform well!\n",
        "\n",
        "In order for the orientation estimates to coincide with the bearing measurements, it is also neccessary to wrap all estimated $\\theta$ values to the $(-\\pi , \\pi]$ range."
      ]
    },
    {
      "cell_type": "code",
      "metadata": {
        "id": "odwX_SCHCvgZ",
        "colab_type": "code",
        "colab": {}
      },
      "source": [
        "# Wraps angle to (-pi,pi] range\n",
        "def wraptopi(x):\n",
        "    if x > np.pi:\n",
        "        x = x - (np.floor(x / (2 * np.pi)) + 1) * 2 * np.pi\n",
        "    elif x <= -np.pi:\n",
        "        x = x + (np.floor(x / (-2 * np.pi)) + 1) * 2 * np.pi\n",
        "    return x"
      ],
      "execution_count": 0,
      "outputs": []
    },
    {
      "cell_type": "markdown",
      "metadata": {
        "id": "nf-tWxunC1W9",
        "colab_type": "text"
      },
      "source": [
        "## Correction Step\n",
        "-----\n",
        "First, let's implement the measurement update function, which takes an available landmark measurement $l$ and updates the current state estimate $\\mathbf{\\check{x}}_k$.\n",
        "For each landmark measurement received at a given timestep $k$, you should implement the following steps:\n",
        "\n",
        "Note: To know how to calculate Jacobian: [Click Here](https://en.wikipedia.org/wiki/Jacobian_matrix_and_determinant)\n",
        "- Compute the measurement model Jacobians at $\\mathbf{\\check{x}}_{k}$\n",
        "\\begin{align}\n",
        "\\mathbf{y}^l_k = &\\mathbf{h}(\\mathbf{x}_{k}, \\mathbf{n}^l_k) \\\\\\\\\n",
        "\\mathbf{H}_{k} = \\frac{\\partial \\mathbf{h}}{\\partial \\mathbf{x}_{k}}\\bigg|_{\\mathbf{\\check{x}}_{k},0}& \\, , \\, \\, \\, \\,\n",
        "\\mathbf{M}_{k} = \\frac{\\partial \\mathbf{h}}{\\partial \\mathbf{n}_{k}}\\bigg|_{\\mathbf{\\check{x}}_{k},0} \\, .\n",
        "\\end{align}\n",
        "- Compute the Kalman Gain\n",
        "\\begin{align}\n",
        "\\mathbf{K}_k &= \\mathbf{\\check{P}}_k \\mathbf{H}_k^T \\left(\\mathbf{H}_k \\mathbf{\\check{P}}_k \\mathbf{H}_k^T + \\mathbf{M}_k \\mathbf{R}_k \\mathbf{M}_k^T \\right)^{-1} \n",
        "\\end{align}\n",
        "- Correct the predicted state\n",
        "\\begin{align}\n",
        "\\mathbf{\\check{y}}^l_k &= \\mathbf{h}\\left(\\mathbf{\\check{x}}_k, \\mathbf{0}\\right) \\\\\n",
        "\\mathbf{\\hat{x}}_k &= \\mathbf{\\check{x}}_k + \\mathbf{K}_k \\left(\\mathbf{y}^l_k - \\mathbf{\\check{y}}^l_k\\right)\n",
        "\\end{align}\n",
        "- Correct the covariance\n",
        "\\begin{align}\n",
        "\\mathbf{\\hat{P}}_k &= \\left(\\mathbf{I} - \\mathbf{K}_k \\mathbf{H}_k \\right)\\mathbf{\\check{P}}_k\n",
        "\\end{align}"
      ]
    },
    {
      "cell_type": "code",
      "metadata": {
        "id": "z687LZyuCx04",
        "colab_type": "code",
        "colab": {}
      },
      "source": [
        "def measurement_update(lk, rk, bk, P_check, x_check):\n",
        "\n",
        "    x_k = x_check[0]\n",
        "    y_k = x_check[1]\n",
        "    theta_k = wraptopi(x_check[2])\n",
        "    \n",
        "    x_l = lk[0]\n",
        "    y_l = lk[1]\n",
        "    \n",
        "    dx = x_l - x_k - d*np.cos(theta_k)\n",
        "    dy = y_l - y_k - d*np.sin(theta_k)\n",
        "    \n",
        "    r = np.sqrt(dx**2 + dy**2)\n",
        "    phi = math.atan2(dy, dx) - theta_k\n",
        "\n",
        "    # Measurement model State variables\n",
        "    y_k = np.zeros([2,1])\n",
        "    y_k[0] = r\n",
        "    y_k[1] = wraptopi(phi)\n",
        "    \n",
        "    # 1. Compute measurement Jacobian\n",
        "    H_k = np.zeros((2,3))\n",
        "\n",
        "    # Partial differential wrt x\n",
        "    H_k[0,0] = -dx/r\n",
        "    H_k[1,0] = dy/r**2\n",
        "    # Partial differential wrt y\n",
        "    H_k[0,1] = -dy/r\n",
        "    H_k[1,1] = -dx/r**2\n",
        "    # Partial differential wrt thetha\n",
        "    H_k[0,2] = d*(dx*np.sin(theta_k) - dy*math.cos(theta_k))/r\n",
        "    H_k[1,2] = -d*(dy*np.sin(theta_k) + dx*math.cos(theta_k))/r**2\n",
        "    \n",
        "    M_k = np.identity(2)\n",
        "    \n",
        "    y_mes = np.vstack([rk, wraptopi(bk)])\n",
        "    \n",
        "    \n",
        "    # 2. Compute Kalman Gain\n",
        "    K_k = P_check@H_k.T@(np.linalg.inv(H_k@P_check@H_k.T + M_k@cov_y@(M_k.T)))\n",
        "\n",
        "    # 3. Correct predicted state (remember to wrap the angles to [-pi,pi])\n",
        "    x_check = x_check + K_k@(y_mes - y_k)\n",
        "    x_check[2] = wraptopi(x_check[2])\n",
        "\n",
        "    # 4. Correct covariance\n",
        "    P_check = (np.identity(3) - K_k@(H_k))@P_check\n",
        "\n",
        "    return x_check, P_check"
      ],
      "execution_count": 0,
      "outputs": []
    },
    {
      "cell_type": "markdown",
      "metadata": {
        "id": "9zwZkBAFC8Wd",
        "colab_type": "text"
      },
      "source": [
        "## Prediction Step\n",
        "-----\n",
        "Now, implement the main filter loop, defining the prediction step of the EKF using the motion model provided:\n",
        "\n",
        "\\begin{align}\n",
        "\\mathbf{\\check{x}}_k &= \\mathbf{f}\\left(\\mathbf{\\hat{x}}_{k-1}, \\mathbf{u}_{k-1}, \\mathbf{0} \\right) \\\\\n",
        "\\mathbf{\\check{P}}_k &= \\mathbf{F}_{k-1}\\mathbf{\\hat{P}}_{k-1}\\mathbf{F}_{k-1}^T + \\mathbf{L}_{k-1}\\mathbf{Q}_{k-1}\\mathbf{L}_{k-1}^T \\, .\n",
        "\\end{align}\n",
        "\n",
        "Where\n",
        "\n",
        "\\begin{align}\n",
        "\\mathbf{F}_{k-1} = \\frac{\\partial \\mathbf{f}}{\\partial \\mathbf{x}_{k-1}}\\bigg|_{\\mathbf{\\hat{x}}_{k-1},\\mathbf{u}_{k},0}  \\, , \\, \\, \\, \\,\n",
        "\\mathbf{L}_{k-1} = \\frac{\\partial \\mathbf{f}}{\\partial \\mathbf{w}_{k}}\\bigg|_{\\mathbf{\\hat{x}}_{k-1},\\mathbf{u}_{k},0} \\, .\n",
        "\\end{align}\n",
        "\n",
        "Our f function is comprised of 3 functions:\n",
        "\n",
        "*   f1: x = x + v*cos(theta)*dt + wk\n",
        "*   f2: y = y + v*cos(theta)*dt + wk\n",
        "*   f3: thetha = theta + omega*dt + wk\n",
        "\n",
        "wk: noise.\n",
        "Based on this we need to calculate Fkm and Lkm\n",
        "\n"
      ]
    },
    {
      "cell_type": "code",
      "metadata": {
        "id": "9p8FqrjDC9Fq",
        "colab_type": "code",
        "colab": {}
      },
      "source": [
        "#### 5. Main Filter Loop #######################################################################\n",
        "# set the initial values\n",
        "P_check = P_est[0]\n",
        "x_check = x_est[0, :].reshape(3,1)\n",
        "for k in range(1, len(t)):  # start at 1 because we've set the initial prediciton\n",
        "\n",
        "    delta_t = t[k] - t[k - 1]  # time step (difference between timestamps)\n",
        "    \n",
        "    theta = wraptopi(x_check[2])\n",
        "\n",
        "    # 1. Update state with odometry readings (remember to wrap the angles to [-pi,pi])\n",
        "    B = np.array([[delta_t*math.cos(theta), 0],\n",
        "                  [delta_t*math.sin(theta), 0],\n",
        "                  [0, delta_t]], dtype='float')\n",
        "    \n",
        "    u = np.array([[v[k-1]], [om[k-1]]])\n",
        "\n",
        "    A = np.identity(3)    \n",
        "    x_check = A@x_check + B@u\n",
        "    x_check[2] = wraptopi(x_check[2])\n",
        "    theta = wraptopi(x_check[2])\n",
        "    \n",
        "    # 2. Motion model jacobian with respect to last state\n",
        "    F_km = np.zeros([3, 3])\n",
        "    F_km = np.array([[1, 0, -math.sin(theta)*delta_t*v[k-1]],\n",
        "                     [0, 1, math.cos(theta)*delta_t*v[k-1]],\n",
        "                     [0, 0, 1]], dtype='float')\n",
        "    # dtype='float'\n",
        "    # 3. Motion model jacobian with respect to noise\n",
        "    L_km = np.zeros([3, 2])\n",
        "    L_km = np.array([[math.cos(theta)*delta_t, 0], \n",
        "                    [math.sin(theta)*delta_t, 0],\n",
        "                    [0,1]], dtype='float')\n",
        "\n",
        "    # 4. Propagate uncertainty\n",
        "    P_check = F_km@P_check@F_km.T + L_km@Q_km@L_km.T \n",
        "\n",
        "    # 5. Update state estimate using available landmark measurements\n",
        "    for i in range(len(r[k])):\n",
        "        x_check, P_check = measurement_update(l[i], r[k, i], b[k, i], P_check, x_check)\n",
        "\n",
        "    # Set final state predictions for timestep\n",
        "    x_est[k, 0] = x_check[0]\n",
        "    x_est[k, 1] = x_check[1]\n",
        "    x_est[k, 2] = x_check[2]\n",
        "    P_est[k, :, :] = P_check"
      ],
      "execution_count": 0,
      "outputs": []
    },
    {
      "cell_type": "markdown",
      "metadata": {
        "id": "CUgZ_6I4DCzK",
        "colab_type": "text"
      },
      "source": [
        "Let's plot the resulting state estimates:"
      ]
    },
    {
      "cell_type": "code",
      "metadata": {
        "id": "TeoZbVefDDM7",
        "colab_type": "code",
        "outputId": "b497d0b2-cf4e-4b2c-d4fb-f7f8bf17f386",
        "colab": {
          "base_uri": "https://localhost:8080/",
          "height": 573
        }
      },
      "source": [
        "e_fig = plt.figure()\n",
        "ax = e_fig.add_subplot(111)\n",
        "ax.plot(x_est[:, 0], x_est[:, 1])\n",
        "ax.set_xlabel('x [m]')\n",
        "ax.set_ylabel('y [m]')\n",
        "ax.set_title('Estimated trajectory')\n",
        "plt.show()\n",
        "\n",
        "e_fig = plt.figure()\n",
        "ax = e_fig.add_subplot(111)\n",
        "ax.plot(t[:], x_est[:, 2])\n",
        "ax.set_xlabel('Time [s]')\n",
        "ax.set_ylabel('theta [rad]')\n",
        "ax.set_title('Estimated trajectory')\n",
        "plt.show()"
      ],
      "execution_count": 0,
      "outputs": [
        {
          "output_type": "display_data",
          "data": {
            "image/png": "[encoded data removed]",
            "text/plain": [
              "<Figure size 432x288 with 1 Axes>"
            ]
          },
          "metadata": {
            "tags": [],
            "needs_background": "light"
          }
        },
        {
          "output_type": "display_data",
          "data": {
            "image/png": "[encoded data removed]",
            "text/plain": [
              "<Figure size 432x288 with 1 Axes>"
            ]
          },
          "metadata": {
            "tags": [],
            "needs_background": "light"
          }
        }
      ]
    },
    {
      "cell_type": "markdown",
      "metadata": {
        "id": "ZPooSSrZDLUk",
        "colab_type": "text"
      },
      "source": [
        "Are you satisfied wth your results? The resulting trajectory should closely resemble the ground truth, with minor \"jumps\" in the orientation estimate due to angle wrapping. If this is the case, run the code below to produce your solution file."
      ]
    },
    {
      "cell_type": "code",
      "metadata": {
        "id": "3AX3GlXfDFUe",
        "colab_type": "code",
        "colab": {}
      },
      "source": [
        "with open('submission.pkl', 'wb') as f:\n",
        "    pickle.dump(x_est, f, pickle.HIGHEST_PROTOCOL)"
      ],
      "execution_count": 0,
      "outputs": []
    }
  ]
}