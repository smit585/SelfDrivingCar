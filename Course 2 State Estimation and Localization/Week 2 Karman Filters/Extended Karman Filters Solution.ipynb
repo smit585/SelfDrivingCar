{
  "nbformat": 4,
  "nbformat_minor": 0,
  "metadata": {
    "colab": {
      "name": "Untitled",
      "provenance": [],
      "collapsed_sections": [],
      "authorship_tag": "ABX9TyPXNBjomLCBKWmGBaFgACDR",
      "include_colab_link": true
    },
    "kernelspec": {
      "name": "python3",
      "display_name": "Python 3"
    }
  },
  "cells": [
    {
      "cell_type": "markdown",
      "metadata": {
        "id": "view-in-github",
        "colab_type": "text"
      },
      "source": [
        "<a href=\"https://colab.research.google.com/github/smit585/SelfDrivingCar/blob/master/Course%202%20State%20Estimation%20and%20Localization/Week%202%20Karman%20Filters/Extended%20Karman%20Filters%20Solution.ipynb\" target=\"_parent\"><img src=\"https://colab.research.google.com/assets/colab-badge.svg\" alt=\"Open In Colab\"/></a>"
      ]
    },
    {
      "cell_type": "markdown",
      "metadata": {
        "id": "8fCs6nZbgdtT",
        "colab_type": "text"
      },
      "source": [
        "Can look at these links to understand Karman Filter;\n",
        "* [Karman Filter Working in Pictures](https://www.bzarg.com/p/how-a-kalman-filter-works-in-pictures/)\n",
        "* [Medium](https://medium.com/@dingyan7361/least-squares-recursive-least-squares-kalman-filters-and-sensor-fusion-ed13f6242e9e)"
      ]
    },
    {
      "cell_type": "markdown",
      "metadata": {
        "id": "aaoKNcWwXK3F",
        "colab_type": "text"
      },
      "source": [
        "# Problem in Extended Karman Filter\n",
        "\n",
        "![Problem Statement](https://miro.medium.com/max/1400/1*1zaDx4cF-Dph1sNmul8HxQ.png)\n",
        "\n",
        "We have the formentioned problem statement. Instead of a linear model like GPS, this time we have a camera on the car, and using the Angle of elevation we can measure the position of the car as we know the Height and distance of the statue. As the measurement model is non-linear, therefore we cannot use Linear Karman Filter. Instead, we would use Extended Karman filter, that linearizes the model at an operating point by expanding the model using Taylor Expansion and taking first order terms.\n",
        "\n",
        "Apart from this model, we have the data as:\n",
        "\n",
        "![Data](https://miro.medium.com/max/574/1*Uhk1x4J4UhxSL3oL_xDCmg.png)\n",
        "\n",
        "Now, we need to find the next position and velocity of the vehicle by fusing predicted and measured values.\n",
        "\n",
        "From all the data present above, we can calculate the Jacobian matrices and State matrices like:\n",
        "\n",
        "*   Fk = [1 0.5; 0 1]\n",
        "*   Pk = [0.01 0; 0 1]\n",
        "*   Qk = [0.1 0; 0 0.1]\n",
        "* Rk = 0.01\n",
        "\n",
        "Jacobian Matrices: (As all the models have linear relationship with Errors)\n",
        "* Lk = 1\n",
        "* Mk = 1\n",
        "* Hk = [S/((D-x)**2 + S ** 2), 0]\n",
        "  * Hk = [20/(1806.25), 0] = [0.011, 0]"
      ]
    },
    {
      "cell_type": "code",
      "metadata": {
        "id": "XTaoKbEqJllU",
        "colab_type": "code",
        "outputId": "5e59f0a7-b24e-4a32-bcdb-576272707e6b",
        "colab": {
          "base_uri": "https://localhost:8080/",
          "height": 52
        }
      },
      "source": [
        "import numpy as np\n",
        "from numpy.linalg import inv\n",
        "\n",
        "# Loading the initial Data\n",
        "x0 = np.array([[0],[5]])\n",
        "delT = 0.5\n",
        "u = -2\n",
        "S = 20\n",
        "D = 40\n",
        "y0 = np.pi/6\n",
        "\n",
        "# Creating the matrices\n",
        "F = np.array([[1, delT], [0, 1]])\n",
        "P = np.array([[0.01, 0], [0, 1]]) \n",
        "Q = np.array([[0.1, 0], [0, 0.1 ]])\n",
        "G = np.array([[0],[delT]])\n",
        "R = 0.01\n",
        "L = 1\n",
        "M = 1\n",
        "\n",
        "\n",
        "P_k = F.dot(P.dot(F.T)) + Q\n",
        "print(P_k)"
      ],
      "execution_count": 77,
      "outputs": [
        {
          "output_type": "stream",
          "text": [
            "[[0.36 0.5 ]\n",
            " [0.5  1.1 ]]\n"
          ],
          "name": "stdout"
        }
      ]
    },
    {
      "cell_type": "code",
      "metadata": {
        "id": "CvAZr6EYJtoG",
        "colab_type": "code",
        "outputId": "df379b51-c848-4b95-997b-c1fa410f5a33",
        "colab": {
          "base_uri": "https://localhost:8080/",
          "height": 35
        }
      },
      "source": [
        "# Calculating the Predicted State using Motion Model\n",
        "x = F.dot(x0) + G*u\n",
        "print(x.item(0))"
      ],
      "execution_count": 78,
      "outputs": [
        {
          "output_type": "stream",
          "text": [
            "2.5\n"
          ],
          "name": "stdout"
        }
      ]
    },
    {
      "cell_type": "code",
      "metadata": {
        "id": "0Ey4qJ2VLce4",
        "colab_type": "code",
        "outputId": "2425b2b2-311a-4a25-a2a1-12194968372c",
        "colab": {
          "base_uri": "https://localhost:8080/",
          "height": 35
        }
      },
      "source": [
        "# Calculate H matrix using the predicted position\n",
        "# Predicted position is in zeroth index of the state matrix\n",
        "H_k = np.array([[S/((D - x.item(0)) **2  + S ** 2), 0]])\n",
        "print(H_k)"
      ],
      "execution_count": 79,
      "outputs": [
        {
          "output_type": "stream",
          "text": [
            "[[0.01107266 0.        ]]\n"
          ],
          "name": "stdout"
        }
      ]
    },
    {
      "cell_type": "code",
      "metadata": {
        "id": "Rf81IEIpOXtI",
        "colab_type": "code",
        "outputId": "49b04d34-5354-4581-86c5-dce3fb8bbfe8",
        "colab": {
          "base_uri": "https://localhost:8080/",
          "height": 52
        }
      },
      "source": [
        "# Find the optimal gain to fuse the predicted and measured data\n",
        "K_k = P_k.dot(H_k.T.dot(inv(H_k.dot(P_k.dot(H_k.T)) + M*R*M)))\n",
        "print(K_k)"
      ],
      "execution_count": 80,
      "outputs": [
        {
          "output_type": "stream",
          "text": [
            "[[0.39686426]\n",
            " [0.55120036]]\n"
          ],
          "name": "stdout"
        }
      ]
    },
    {
      "cell_type": "code",
      "metadata": {
        "id": "YOak3iq7UuCd",
        "colab_type": "code",
        "outputId": "1c7180a9-7a9d-4b00-8394-d7af20c0072a",
        "colab": {
          "base_uri": "https://localhost:8080/",
          "height": 52
        }
      },
      "source": [
        "# Finally obtain the value of estimated states by fusing predicted and measured\n",
        "# data and adding it to the innovation. Value of y at initial time step is \n",
        "# already present.\n",
        "x1 = x + K_k.dot(y0 - np.arctan(S/(D - x.item(0))))\n",
        "print(x1)"
      ],
      "execution_count": 81,
      "outputs": [
        {
          "output_type": "stream",
          "text": [
            "[[2.51335109]\n",
            " [4.01854318]]\n"
          ],
          "name": "stdout"
        }
      ]
    }
  ]
}