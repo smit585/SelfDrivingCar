{
  "nbformat": 4,
  "nbformat_minor": 0,
  "metadata": {
    "colab": {
      "name": "Untitled1.ipynb",
      "provenance": [],
      "authorship_tag": "ABX9TyPogy7s7MOlOyel3hTAqM68",
      "include_colab_link": true
    },
    "kernelspec": {
      "name": "python3",
      "display_name": "Python 3"
    }
  },
  "cells": [
    {
      "cell_type": "markdown",
      "metadata": {
        "id": "view-in-github",
        "colab_type": "text"
      },
      "source": [
        "<a href=\"https://colab.research.google.com/github/smit585/SelfDrivingCar/blob/master/Course%202%20State%20Estimation%20and%20Localization/Week%201%20Least%20Squared%20Error/C2M1L1.ipynb\" target=\"_parent\"><img src=\"https://colab.research.google.com/assets/colab-badge.svg\" alt=\"Open In Colab\"/></a>"
      ]
    },
    {
      "cell_type": "markdown",
      "metadata": {
        "id": "ehjxyoe2Ebza",
        "colab_type": "text"
      },
      "source": [
        "## Introduction\n",
        "You (an electrical engineer) wish to determine the resistance of an electrical component by using Ohm's law. You remember from your high school circuit classes that $$V = RI$$ where $V$ is the voltage in volts, $R$ is resistance in ohms, and $I$ is electrical current in amperes. Using a multimeter, you collect the following data:\n",
        "\n",
        "| Current (A) | Voltage (V) |\n",
        "|-------------|-------------|\n",
        "| 0.2         | 1.23        |\n",
        "| 0.3         | 1.38        |\n",
        "| 0.4         | 2.06        |\n",
        "| 0.5         | 2.47        |\n",
        "| 0.6         | 3.17        |\n",
        "\n",
        "Your goal is to \n",
        "1. Fit a line through the origin (i.e., determine the parameter $R$ for $y = Rx$) to this data by using the method of least squares. You may assume that all measurements are of equal importance. \n",
        "2. Consider what the best estimate of the resistance is, in ohms, for this component.\n",
        "\n",
        "## Getting Started\n",
        "----\n",
        "\n",
        "First we will import the neccesary Python modules and load the current and voltage measurements into numpy arrays:"
      ]
    },
    {
      "cell_type": "code",
      "metadata": {
        "id": "MlqAF8fNEge5",
        "colab_type": "code",
        "colab": {}
      },
      "source": [
        "import numpy as np\n",
        "from numpy.linalg import inv\n",
        "import matplotlib.pyplot as plt\n",
        "\n",
        "# Store the voltage and current data as column vectors.\n",
        "I = np.mat([0.2, 0.3, 0.4, 0.5, 0.6]).T\n",
        "V = np.mat([1.23, 1.38, 2.06, 2.47, 3.17]).T"
      ],
      "execution_count": 0,
      "outputs": []
    },
    {
      "cell_type": "markdown",
      "metadata": {
        "id": "YffCqjEDElVq",
        "colab_type": "text"
      },
      "source": [
        "Now we can plot the measurements - can you see the linear relationship between current and voltage?"
      ]
    },
    {
      "cell_type": "code",
      "metadata": {
        "id": "jyRqYObTEnjj",
        "colab_type": "code",
        "outputId": "2dcaa152-463f-4b8e-8b4d-09273d5e6379",
        "colab": {
          "base_uri": "https://localhost:8080/",
          "height": 282
        }
      },
      "source": [
        "plt.scatter(np.asarray(I), np.asarray(V))\n",
        "\n",
        "plt.xlabel('Current (A)')\n",
        "plt.ylabel('Voltage (V)')\n",
        "plt.grid(True)\n",
        "plt.show()"
      ],
      "execution_count": 0,
      "outputs": [
        {
          "output_type": "display_data",
          "data": {
            "image/png": "[encoded data removed]",
            "text/plain": [
              "<Figure size 432x288 with 1 Axes>"
            ]
          },
          "metadata": {
            "tags": [],
            "needs_background": "light"
          }
        }
      ]
    },
    {
      "cell_type": "markdown",
      "metadata": {
        "id": "gWygutD5EtIl",
        "colab_type": "text"
      },
      "source": [
        "## Estimating the Slope Parameter\n",
        "----\n",
        "Let's try to estimate the slope parameter $R$ (i.e., the resistance) using the least squares formulation from Module 1, Lesson 1 - \"The Squared Error Criterion and the Method of Least Squares\":\n",
        "\n",
        "\\begin{align}\n",
        "\\hat{R} = \\left(\\mathbf{H}^T\\mathbf{H}\\right)^{-1}\\mathbf{H}^T\\mathbf{y}\n",
        "\\end{align}\n",
        "\n",
        "If we know that we're looking for the slope parameter $R$, how do we define the matrix $\\mathbf{H}$ and vector $\\mathbf{y}$?"
      ]
    },
    {
      "cell_type": "code",
      "metadata": {
        "id": "mWq0uW9EEvkh",
        "colab_type": "code",
        "outputId": "ea53a3ad-415e-45f3-da83-75b25081a0a9",
        "colab": {
          "base_uri": "https://localhost:8080/",
          "height": 50
        }
      },
      "source": [
        "# Define the H matrix, what does it contain?\n",
        "# H = ...\n",
        "H = np.mat([1, 1, 1, 1, 1]).T\n",
        "# Now estimate the resistance parameter.\n",
        "# R = ... \n",
        "y = V/I\n",
        "\n",
        "R = np.linalg.inv(H.T*H)*(H.T)*y\n",
        "print('The slope parameter (i.e., resistance) for the best-fit line is:')\n",
        "R = R.flat[0]\n",
        "print(R)"
      ],
      "execution_count": 0,
      "outputs": [
        {
          "output_type": "stream",
          "text": [
            "The slope parameter (i.e., resistance) for the best-fit line is:\n",
            "5.224666666666667\n"
          ],
          "name": "stdout"
        }
      ]
    },
    {
      "cell_type": "markdown",
      "metadata": {
        "id": "sgEasSjKE0ch",
        "colab_type": "text"
      },
      "source": [
        "## Plotting the Results\n",
        "----\n",
        "Now let's plot our result. How do we relate our linear parameter fit to the resistance value in ohms?"
      ]
    },
    {
      "cell_type": "code",
      "metadata": {
        "id": "LLByUpeLE1gR",
        "colab_type": "code",
        "outputId": "6a0c7312-2844-42d0-92ae-dfc3744a9b87",
        "colab": {
          "base_uri": "https://localhost:8080/",
          "height": 279
        }
      },
      "source": [
        "I_line = np.arange(0, 0.8, 0.1)\n",
        "V_line = R*I_line\n",
        "\n",
        "plt.scatter(np.asarray(I), np.asarray(V))\n",
        "plt.plot(I_line, V_line)\n",
        "plt.xlabel('current (A)')\n",
        "plt.ylabel('voltage (V)')\n",
        "plt.grid(True)\n",
        "plt.show()"
      ],
      "execution_count": 0,
      "outputs": [
        {
          "output_type": "display_data",
          "data": {
            "image/png": "[encoded data removed]",
            "text/plain": [
              "<Figure size 432x288 with 1 Axes>"
            ]
          },
          "metadata": {
            "tags": [],
            "needs_background": "light"
          }
        }
      ]
    },
    {
      "cell_type": "markdown",
      "metadata": {
        "id": "s0KCM0llE55v",
        "colab_type": "text"
      },
      "source": [
        "If you have implemented the estimation steps correctly, the slope parameter $\\hat{R}$ should be close to the actual resistance value of $R = 5~\\Omega$. However, the estimated value will not match the true resistance value exactly, since we have only a limited number of noisy measurements."
      ]
    },
    {
      "cell_type": "code",
      "metadata": {
        "id": "rkFs2Ne7E62b",
        "colab_type": "code",
        "colab": {}
      },
      "source": [
        ""
      ],
      "execution_count": 0,
      "outputs": []
    }
  ]
}